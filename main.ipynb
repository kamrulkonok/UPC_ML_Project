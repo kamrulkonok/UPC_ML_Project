{
  "nbformat": 4,
  "nbformat_minor": 0,
  "metadata": {
    "colab": {
      "provenance": [],
      "mount_file_id": "1UcF3n9XVWvtlVTP0r7wjOm8KCwk1_V16",
      "authorship_tag": "ABX9TyO4JREhLx705Gabm0fHSU4O",
      "include_colab_link": true
    },
    "kernelspec": {
      "name": "python3",
      "display_name": "Python 3"
    },
    "language_info": {
      "name": "python"
    }
  },
  "cells": [
    {
      "cell_type": "markdown",
      "metadata": {
        "id": "view-in-github",
        "colab_type": "text"
      },
      "source": [
        "<a href=\"https://colab.research.google.com/github/kamrulkonok/UPC_ML_Project/blob/Konok/main.ipynb\" target=\"_parent\"><img src=\"https://colab.research.google.com/assets/colab-badge.svg\" alt=\"Open In Colab\"/></a>"
      ]
    },
    {
      "cell_type": "code",
      "execution_count": 160,
      "metadata": {
        "id": "U36Q12lGJgKd"
      },
      "outputs": [],
      "source": [
        "import pandas as pd\n",
        "import numpy as np\n",
        "from sklearn.preprocessing import MinMaxScaler, StandardScaler\n",
        "from statsmodels.stats.outliers_influence import variance_inflation_factor\n",
        "from sklearn.model_selection import train_test_split, cross_val_score\n",
        "from sklearn.linear_model import LinearRegression\n",
        "from sklearn.metrics import make_scorer, mean_squared_error, r2_score\n",
        "from statsmodels.stats.outliers_influence import variance_inflation_factor"
      ]
    },
    {
      "cell_type": "code",
      "source": [
        "df = pd.read_csv(\"/content/drive/MyDrive/ML Project/dataset/airbnb_data.csv\")\n",
        "df.head()"
      ],
      "metadata": {
        "colab": {
          "base_uri": "https://localhost:8080/",
          "height": 355
        },
        "id": "laTlAmPJJtlH",
        "outputId": "de279a58-0224-4383-8507-14027bc375e8"
      },
      "execution_count": 161,
      "outputs": [
        {
          "output_type": "execute_result",
          "data": {
            "text/plain": [
              "   Unnamed: 0     realSum     room_type  room_shared  room_private  \\\n",
              "0           0  194.033698  Private room        False          True   \n",
              "1           1  344.245776  Private room        False          True   \n",
              "2           2  264.101422  Private room        False          True   \n",
              "3           3  433.529398  Private room        False          True   \n",
              "4           4  485.552926  Private room        False          True   \n",
              "\n",
              "   person_capacity  host_is_superhost  multi  biz  cleanliness_rating  ...  \\\n",
              "0              2.0              False      1    0                10.0  ...   \n",
              "1              4.0              False      0    0                 8.0  ...   \n",
              "2              2.0              False      0    1                 9.0  ...   \n",
              "3              4.0              False      0    1                 9.0  ...   \n",
              "4              2.0               True      0    0                10.0  ...   \n",
              "\n",
              "       dist  metro_dist  attr_index  attr_index_norm  rest_index  \\\n",
              "0  5.022964    2.539380   78.690379         4.166708   98.253896   \n",
              "1  0.488389    0.239404  631.176378        33.421209  837.280757   \n",
              "2  5.748312    3.651621   75.275877         3.985908   95.386955   \n",
              "3  0.384862    0.439876  493.272534        26.119108  875.033098   \n",
              "4  0.544738    0.318693  552.830324        29.272733  815.305740   \n",
              "\n",
              "   rest_index_norm      lng       lat       city  day_type  \n",
              "0         6.846473  4.90569  52.41772  amsterdam  weekdays  \n",
              "1        58.342928  4.90005  52.37432  amsterdam  weekdays  \n",
              "2         6.646700  4.97512  52.36103  amsterdam  weekdays  \n",
              "3        60.973565  4.89417  52.37663  amsterdam  weekdays  \n",
              "4        56.811677  4.90051  52.37508  amsterdam  weekdays  \n",
              "\n",
              "[5 rows x 22 columns]"
            ],
            "text/html": [
              "\n",
              "  <div id=\"df-b9403f4b-c103-4d8d-9120-85948604b696\" class=\"colab-df-container\">\n",
              "    <div>\n",
              "<style scoped>\n",
              "    .dataframe tbody tr th:only-of-type {\n",
              "        vertical-align: middle;\n",
              "    }\n",
              "\n",
              "    .dataframe tbody tr th {\n",
              "        vertical-align: top;\n",
              "    }\n",
              "\n",
              "    .dataframe thead th {\n",
              "        text-align: right;\n",
              "    }\n",
              "</style>\n",
              "<table border=\"1\" class=\"dataframe\">\n",
              "  <thead>\n",
              "    <tr style=\"text-align: right;\">\n",
              "      <th></th>\n",
              "      <th>Unnamed: 0</th>\n",
              "      <th>realSum</th>\n",
              "      <th>room_type</th>\n",
              "      <th>room_shared</th>\n",
              "      <th>room_private</th>\n",
              "      <th>person_capacity</th>\n",
              "      <th>host_is_superhost</th>\n",
              "      <th>multi</th>\n",
              "      <th>biz</th>\n",
              "      <th>cleanliness_rating</th>\n",
              "      <th>...</th>\n",
              "      <th>dist</th>\n",
              "      <th>metro_dist</th>\n",
              "      <th>attr_index</th>\n",
              "      <th>attr_index_norm</th>\n",
              "      <th>rest_index</th>\n",
              "      <th>rest_index_norm</th>\n",
              "      <th>lng</th>\n",
              "      <th>lat</th>\n",
              "      <th>city</th>\n",
              "      <th>day_type</th>\n",
              "    </tr>\n",
              "  </thead>\n",
              "  <tbody>\n",
              "    <tr>\n",
              "      <th>0</th>\n",
              "      <td>0</td>\n",
              "      <td>194.033698</td>\n",
              "      <td>Private room</td>\n",
              "      <td>False</td>\n",
              "      <td>True</td>\n",
              "      <td>2.0</td>\n",
              "      <td>False</td>\n",
              "      <td>1</td>\n",
              "      <td>0</td>\n",
              "      <td>10.0</td>\n",
              "      <td>...</td>\n",
              "      <td>5.022964</td>\n",
              "      <td>2.539380</td>\n",
              "      <td>78.690379</td>\n",
              "      <td>4.166708</td>\n",
              "      <td>98.253896</td>\n",
              "      <td>6.846473</td>\n",
              "      <td>4.90569</td>\n",
              "      <td>52.41772</td>\n",
              "      <td>amsterdam</td>\n",
              "      <td>weekdays</td>\n",
              "    </tr>\n",
              "    <tr>\n",
              "      <th>1</th>\n",
              "      <td>1</td>\n",
              "      <td>344.245776</td>\n",
              "      <td>Private room</td>\n",
              "      <td>False</td>\n",
              "      <td>True</td>\n",
              "      <td>4.0</td>\n",
              "      <td>False</td>\n",
              "      <td>0</td>\n",
              "      <td>0</td>\n",
              "      <td>8.0</td>\n",
              "      <td>...</td>\n",
              "      <td>0.488389</td>\n",
              "      <td>0.239404</td>\n",
              "      <td>631.176378</td>\n",
              "      <td>33.421209</td>\n",
              "      <td>837.280757</td>\n",
              "      <td>58.342928</td>\n",
              "      <td>4.90005</td>\n",
              "      <td>52.37432</td>\n",
              "      <td>amsterdam</td>\n",
              "      <td>weekdays</td>\n",
              "    </tr>\n",
              "    <tr>\n",
              "      <th>2</th>\n",
              "      <td>2</td>\n",
              "      <td>264.101422</td>\n",
              "      <td>Private room</td>\n",
              "      <td>False</td>\n",
              "      <td>True</td>\n",
              "      <td>2.0</td>\n",
              "      <td>False</td>\n",
              "      <td>0</td>\n",
              "      <td>1</td>\n",
              "      <td>9.0</td>\n",
              "      <td>...</td>\n",
              "      <td>5.748312</td>\n",
              "      <td>3.651621</td>\n",
              "      <td>75.275877</td>\n",
              "      <td>3.985908</td>\n",
              "      <td>95.386955</td>\n",
              "      <td>6.646700</td>\n",
              "      <td>4.97512</td>\n",
              "      <td>52.36103</td>\n",
              "      <td>amsterdam</td>\n",
              "      <td>weekdays</td>\n",
              "    </tr>\n",
              "    <tr>\n",
              "      <th>3</th>\n",
              "      <td>3</td>\n",
              "      <td>433.529398</td>\n",
              "      <td>Private room</td>\n",
              "      <td>False</td>\n",
              "      <td>True</td>\n",
              "      <td>4.0</td>\n",
              "      <td>False</td>\n",
              "      <td>0</td>\n",
              "      <td>1</td>\n",
              "      <td>9.0</td>\n",
              "      <td>...</td>\n",
              "      <td>0.384862</td>\n",
              "      <td>0.439876</td>\n",
              "      <td>493.272534</td>\n",
              "      <td>26.119108</td>\n",
              "      <td>875.033098</td>\n",
              "      <td>60.973565</td>\n",
              "      <td>4.89417</td>\n",
              "      <td>52.37663</td>\n",
              "      <td>amsterdam</td>\n",
              "      <td>weekdays</td>\n",
              "    </tr>\n",
              "    <tr>\n",
              "      <th>4</th>\n",
              "      <td>4</td>\n",
              "      <td>485.552926</td>\n",
              "      <td>Private room</td>\n",
              "      <td>False</td>\n",
              "      <td>True</td>\n",
              "      <td>2.0</td>\n",
              "      <td>True</td>\n",
              "      <td>0</td>\n",
              "      <td>0</td>\n",
              "      <td>10.0</td>\n",
              "      <td>...</td>\n",
              "      <td>0.544738</td>\n",
              "      <td>0.318693</td>\n",
              "      <td>552.830324</td>\n",
              "      <td>29.272733</td>\n",
              "      <td>815.305740</td>\n",
              "      <td>56.811677</td>\n",
              "      <td>4.90051</td>\n",
              "      <td>52.37508</td>\n",
              "      <td>amsterdam</td>\n",
              "      <td>weekdays</td>\n",
              "    </tr>\n",
              "  </tbody>\n",
              "</table>\n",
              "<p>5 rows × 22 columns</p>\n",
              "</div>\n",
              "    <div class=\"colab-df-buttons\">\n",
              "\n",
              "  <div class=\"colab-df-container\">\n",
              "    <button class=\"colab-df-convert\" onclick=\"convertToInteractive('df-b9403f4b-c103-4d8d-9120-85948604b696')\"\n",
              "            title=\"Convert this dataframe to an interactive table.\"\n",
              "            style=\"display:none;\">\n",
              "\n",
              "  <svg xmlns=\"http://www.w3.org/2000/svg\" height=\"24px\" viewBox=\"0 -960 960 960\">\n",
              "    <path d=\"M120-120v-720h720v720H120Zm60-500h600v-160H180v160Zm220 220h160v-160H400v160Zm0 220h160v-160H400v160ZM180-400h160v-160H180v160Zm440 0h160v-160H620v160ZM180-180h160v-160H180v160Zm440 0h160v-160H620v160Z\"/>\n",
              "  </svg>\n",
              "    </button>\n",
              "\n",
              "  <style>\n",
              "    .colab-df-container {\n",
              "      display:flex;\n",
              "      gap: 12px;\n",
              "    }\n",
              "\n",
              "    .colab-df-convert {\n",
              "      background-color: #E8F0FE;\n",
              "      border: none;\n",
              "      border-radius: 50%;\n",
              "      cursor: pointer;\n",
              "      display: none;\n",
              "      fill: #1967D2;\n",
              "      height: 32px;\n",
              "      padding: 0 0 0 0;\n",
              "      width: 32px;\n",
              "    }\n",
              "\n",
              "    .colab-df-convert:hover {\n",
              "      background-color: #E2EBFA;\n",
              "      box-shadow: 0px 1px 2px rgba(60, 64, 67, 0.3), 0px 1px 3px 1px rgba(60, 64, 67, 0.15);\n",
              "      fill: #174EA6;\n",
              "    }\n",
              "\n",
              "    .colab-df-buttons div {\n",
              "      margin-bottom: 4px;\n",
              "    }\n",
              "\n",
              "    [theme=dark] .colab-df-convert {\n",
              "      background-color: #3B4455;\n",
              "      fill: #D2E3FC;\n",
              "    }\n",
              "\n",
              "    [theme=dark] .colab-df-convert:hover {\n",
              "      background-color: #434B5C;\n",
              "      box-shadow: 0px 1px 3px 1px rgba(0, 0, 0, 0.15);\n",
              "      filter: drop-shadow(0px 1px 2px rgba(0, 0, 0, 0.3));\n",
              "      fill: #FFFFFF;\n",
              "    }\n",
              "  </style>\n",
              "\n",
              "    <script>\n",
              "      const buttonEl =\n",
              "        document.querySelector('#df-b9403f4b-c103-4d8d-9120-85948604b696 button.colab-df-convert');\n",
              "      buttonEl.style.display =\n",
              "        google.colab.kernel.accessAllowed ? 'block' : 'none';\n",
              "\n",
              "      async function convertToInteractive(key) {\n",
              "        const element = document.querySelector('#df-b9403f4b-c103-4d8d-9120-85948604b696');\n",
              "        const dataTable =\n",
              "          await google.colab.kernel.invokeFunction('convertToInteractive',\n",
              "                                                    [key], {});\n",
              "        if (!dataTable) return;\n",
              "\n",
              "        const docLinkHtml = 'Like what you see? Visit the ' +\n",
              "          '<a target=\"_blank\" href=https://colab.research.google.com/notebooks/data_table.ipynb>data table notebook</a>'\n",
              "          + ' to learn more about interactive tables.';\n",
              "        element.innerHTML = '';\n",
              "        dataTable['output_type'] = 'display_data';\n",
              "        await google.colab.output.renderOutput(dataTable, element);\n",
              "        const docLink = document.createElement('div');\n",
              "        docLink.innerHTML = docLinkHtml;\n",
              "        element.appendChild(docLink);\n",
              "      }\n",
              "    </script>\n",
              "  </div>\n",
              "\n",
              "\n",
              "<div id=\"df-99df5885-e3bb-41ed-b422-915abde90bba\">\n",
              "  <button class=\"colab-df-quickchart\" onclick=\"quickchart('df-99df5885-e3bb-41ed-b422-915abde90bba')\"\n",
              "            title=\"Suggest charts\"\n",
              "            style=\"display:none;\">\n",
              "\n",
              "<svg xmlns=\"http://www.w3.org/2000/svg\" height=\"24px\"viewBox=\"0 0 24 24\"\n",
              "     width=\"24px\">\n",
              "    <g>\n",
              "        <path d=\"M19 3H5c-1.1 0-2 .9-2 2v14c0 1.1.9 2 2 2h14c1.1 0 2-.9 2-2V5c0-1.1-.9-2-2-2zM9 17H7v-7h2v7zm4 0h-2V7h2v10zm4 0h-2v-4h2v4z\"/>\n",
              "    </g>\n",
              "</svg>\n",
              "  </button>\n",
              "\n",
              "<style>\n",
              "  .colab-df-quickchart {\n",
              "      --bg-color: #E8F0FE;\n",
              "      --fill-color: #1967D2;\n",
              "      --hover-bg-color: #E2EBFA;\n",
              "      --hover-fill-color: #174EA6;\n",
              "      --disabled-fill-color: #AAA;\n",
              "      --disabled-bg-color: #DDD;\n",
              "  }\n",
              "\n",
              "  [theme=dark] .colab-df-quickchart {\n",
              "      --bg-color: #3B4455;\n",
              "      --fill-color: #D2E3FC;\n",
              "      --hover-bg-color: #434B5C;\n",
              "      --hover-fill-color: #FFFFFF;\n",
              "      --disabled-bg-color: #3B4455;\n",
              "      --disabled-fill-color: #666;\n",
              "  }\n",
              "\n",
              "  .colab-df-quickchart {\n",
              "    background-color: var(--bg-color);\n",
              "    border: none;\n",
              "    border-radius: 50%;\n",
              "    cursor: pointer;\n",
              "    display: none;\n",
              "    fill: var(--fill-color);\n",
              "    height: 32px;\n",
              "    padding: 0;\n",
              "    width: 32px;\n",
              "  }\n",
              "\n",
              "  .colab-df-quickchart:hover {\n",
              "    background-color: var(--hover-bg-color);\n",
              "    box-shadow: 0 1px 2px rgba(60, 64, 67, 0.3), 0 1px 3px 1px rgba(60, 64, 67, 0.15);\n",
              "    fill: var(--button-hover-fill-color);\n",
              "  }\n",
              "\n",
              "  .colab-df-quickchart-complete:disabled,\n",
              "  .colab-df-quickchart-complete:disabled:hover {\n",
              "    background-color: var(--disabled-bg-color);\n",
              "    fill: var(--disabled-fill-color);\n",
              "    box-shadow: none;\n",
              "  }\n",
              "\n",
              "  .colab-df-spinner {\n",
              "    border: 2px solid var(--fill-color);\n",
              "    border-color: transparent;\n",
              "    border-bottom-color: var(--fill-color);\n",
              "    animation:\n",
              "      spin 1s steps(1) infinite;\n",
              "  }\n",
              "\n",
              "  @keyframes spin {\n",
              "    0% {\n",
              "      border-color: transparent;\n",
              "      border-bottom-color: var(--fill-color);\n",
              "      border-left-color: var(--fill-color);\n",
              "    }\n",
              "    20% {\n",
              "      border-color: transparent;\n",
              "      border-left-color: var(--fill-color);\n",
              "      border-top-color: var(--fill-color);\n",
              "    }\n",
              "    30% {\n",
              "      border-color: transparent;\n",
              "      border-left-color: var(--fill-color);\n",
              "      border-top-color: var(--fill-color);\n",
              "      border-right-color: var(--fill-color);\n",
              "    }\n",
              "    40% {\n",
              "      border-color: transparent;\n",
              "      border-right-color: var(--fill-color);\n",
              "      border-top-color: var(--fill-color);\n",
              "    }\n",
              "    60% {\n",
              "      border-color: transparent;\n",
              "      border-right-color: var(--fill-color);\n",
              "    }\n",
              "    80% {\n",
              "      border-color: transparent;\n",
              "      border-right-color: var(--fill-color);\n",
              "      border-bottom-color: var(--fill-color);\n",
              "    }\n",
              "    90% {\n",
              "      border-color: transparent;\n",
              "      border-bottom-color: var(--fill-color);\n",
              "    }\n",
              "  }\n",
              "</style>\n",
              "\n",
              "  <script>\n",
              "    async function quickchart(key) {\n",
              "      const quickchartButtonEl =\n",
              "        document.querySelector('#' + key + ' button');\n",
              "      quickchartButtonEl.disabled = true;  // To prevent multiple clicks.\n",
              "      quickchartButtonEl.classList.add('colab-df-spinner');\n",
              "      try {\n",
              "        const charts = await google.colab.kernel.invokeFunction(\n",
              "            'suggestCharts', [key], {});\n",
              "      } catch (error) {\n",
              "        console.error('Error during call to suggestCharts:', error);\n",
              "      }\n",
              "      quickchartButtonEl.classList.remove('colab-df-spinner');\n",
              "      quickchartButtonEl.classList.add('colab-df-quickchart-complete');\n",
              "    }\n",
              "    (() => {\n",
              "      let quickchartButtonEl =\n",
              "        document.querySelector('#df-99df5885-e3bb-41ed-b422-915abde90bba button');\n",
              "      quickchartButtonEl.style.display =\n",
              "        google.colab.kernel.accessAllowed ? 'block' : 'none';\n",
              "    })();\n",
              "  </script>\n",
              "</div>\n",
              "    </div>\n",
              "  </div>\n"
            ],
            "application/vnd.google.colaboratory.intrinsic+json": {
              "type": "dataframe",
              "variable_name": "df"
            }
          },
          "metadata": {},
          "execution_count": 161
        }
      ]
    },
    {
      "cell_type": "markdown",
      "source": [
        "# One Hot Encoding\n",
        "\n",
        "Applying one hot encoding to `room_type`, `multi`, `biz`, `city`, `day_type` columns which contains categorical values"
      ],
      "metadata": {
        "id": "UiWRSp77J0nC"
      }
    },
    {
      "cell_type": "code",
      "source": [
        "df = pd.get_dummies(\n",
        "    df,\n",
        "    columns=[\"room_type\", \"multi\", \"biz\", \"city\", \"day_type\"],\n",
        "    drop_first=True\n",
        ")\n",
        "\n",
        "# Convert boolean columns to integers (1 or 0)\n",
        "for col in df.select_dtypes(include=[bool]).columns:\n",
        "    df[col] = df[col].astype(int)\n"
      ],
      "metadata": {
        "id": "LhIxR1CZJwXq"
      },
      "execution_count": 162,
      "outputs": []
    },
    {
      "cell_type": "markdown",
      "source": [
        "# Log Transformation\n",
        "\n",
        "We have found from our EDA that `realSum` column has outliers due to its skewness, Therefore apply log transformation to reduce it and creating a new column `price` to store the transformed values"
      ],
      "metadata": {
        "id": "e3tNrfl0KUQI"
      }
    },
    {
      "cell_type": "code",
      "source": [
        "df['price'] = np.log(df['realSum'])\n",
        "df.head()"
      ],
      "metadata": {
        "colab": {
          "base_uri": "https://localhost:8080/",
          "height": 270
        },
        "id": "rwzTI2EnJvNf",
        "outputId": "186087bc-a30b-4f6d-d589-d3bc0dfe55bf"
      },
      "execution_count": 163,
      "outputs": [
        {
          "output_type": "execute_result",
          "data": {
            "text/plain": [
              "   Unnamed: 0     realSum  room_shared  room_private  person_capacity  \\\n",
              "0           0  194.033698            0             1              2.0   \n",
              "1           1  344.245776            0             1              4.0   \n",
              "2           2  264.101422            0             1              2.0   \n",
              "3           3  433.529398            0             1              4.0   \n",
              "4           4  485.552926            0             1              2.0   \n",
              "\n",
              "   host_is_superhost  cleanliness_rating  guest_satisfaction_overall  \\\n",
              "0                  0                10.0                        93.0   \n",
              "1                  0                 8.0                        85.0   \n",
              "2                  0                 9.0                        87.0   \n",
              "3                  0                 9.0                        90.0   \n",
              "4                  1                10.0                        98.0   \n",
              "\n",
              "   bedrooms      dist  ...  city_barcelona  city_berlin  city_budapest  \\\n",
              "0         1  5.022964  ...               0            0              0   \n",
              "1         1  0.488389  ...               0            0              0   \n",
              "2         1  5.748312  ...               0            0              0   \n",
              "3         2  0.384862  ...               0            0              0   \n",
              "4         1  0.544738  ...               0            0              0   \n",
              "\n",
              "   city_lisbon  city_london  city_paris  city_rome  city_vienna  \\\n",
              "0            0            0           0          0            0   \n",
              "1            0            0           0          0            0   \n",
              "2            0            0           0          0            0   \n",
              "3            0            0           0          0            0   \n",
              "4            0            0           0          0            0   \n",
              "\n",
              "   day_type_weekends     price  \n",
              "0                  0  5.268032  \n",
              "1                  0  5.841356  \n",
              "2                  0  5.576333  \n",
              "3                  0  6.071960  \n",
              "4                  0  6.185288  \n",
              "\n",
              "[5 rows x 32 columns]"
            ],
            "text/html": [
              "\n",
              "  <div id=\"df-8aecea1c-8cfa-4c35-9b61-6013e1551831\" class=\"colab-df-container\">\n",
              "    <div>\n",
              "<style scoped>\n",
              "    .dataframe tbody tr th:only-of-type {\n",
              "        vertical-align: middle;\n",
              "    }\n",
              "\n",
              "    .dataframe tbody tr th {\n",
              "        vertical-align: top;\n",
              "    }\n",
              "\n",
              "    .dataframe thead th {\n",
              "        text-align: right;\n",
              "    }\n",
              "</style>\n",
              "<table border=\"1\" class=\"dataframe\">\n",
              "  <thead>\n",
              "    <tr style=\"text-align: right;\">\n",
              "      <th></th>\n",
              "      <th>Unnamed: 0</th>\n",
              "      <th>realSum</th>\n",
              "      <th>room_shared</th>\n",
              "      <th>room_private</th>\n",
              "      <th>person_capacity</th>\n",
              "      <th>host_is_superhost</th>\n",
              "      <th>cleanliness_rating</th>\n",
              "      <th>guest_satisfaction_overall</th>\n",
              "      <th>bedrooms</th>\n",
              "      <th>dist</th>\n",
              "      <th>...</th>\n",
              "      <th>city_barcelona</th>\n",
              "      <th>city_berlin</th>\n",
              "      <th>city_budapest</th>\n",
              "      <th>city_lisbon</th>\n",
              "      <th>city_london</th>\n",
              "      <th>city_paris</th>\n",
              "      <th>city_rome</th>\n",
              "      <th>city_vienna</th>\n",
              "      <th>day_type_weekends</th>\n",
              "      <th>price</th>\n",
              "    </tr>\n",
              "  </thead>\n",
              "  <tbody>\n",
              "    <tr>\n",
              "      <th>0</th>\n",
              "      <td>0</td>\n",
              "      <td>194.033698</td>\n",
              "      <td>0</td>\n",
              "      <td>1</td>\n",
              "      <td>2.0</td>\n",
              "      <td>0</td>\n",
              "      <td>10.0</td>\n",
              "      <td>93.0</td>\n",
              "      <td>1</td>\n",
              "      <td>5.022964</td>\n",
              "      <td>...</td>\n",
              "      <td>0</td>\n",
              "      <td>0</td>\n",
              "      <td>0</td>\n",
              "      <td>0</td>\n",
              "      <td>0</td>\n",
              "      <td>0</td>\n",
              "      <td>0</td>\n",
              "      <td>0</td>\n",
              "      <td>0</td>\n",
              "      <td>5.268032</td>\n",
              "    </tr>\n",
              "    <tr>\n",
              "      <th>1</th>\n",
              "      <td>1</td>\n",
              "      <td>344.245776</td>\n",
              "      <td>0</td>\n",
              "      <td>1</td>\n",
              "      <td>4.0</td>\n",
              "      <td>0</td>\n",
              "      <td>8.0</td>\n",
              "      <td>85.0</td>\n",
              "      <td>1</td>\n",
              "      <td>0.488389</td>\n",
              "      <td>...</td>\n",
              "      <td>0</td>\n",
              "      <td>0</td>\n",
              "      <td>0</td>\n",
              "      <td>0</td>\n",
              "      <td>0</td>\n",
              "      <td>0</td>\n",
              "      <td>0</td>\n",
              "      <td>0</td>\n",
              "      <td>0</td>\n",
              "      <td>5.841356</td>\n",
              "    </tr>\n",
              "    <tr>\n",
              "      <th>2</th>\n",
              "      <td>2</td>\n",
              "      <td>264.101422</td>\n",
              "      <td>0</td>\n",
              "      <td>1</td>\n",
              "      <td>2.0</td>\n",
              "      <td>0</td>\n",
              "      <td>9.0</td>\n",
              "      <td>87.0</td>\n",
              "      <td>1</td>\n",
              "      <td>5.748312</td>\n",
              "      <td>...</td>\n",
              "      <td>0</td>\n",
              "      <td>0</td>\n",
              "      <td>0</td>\n",
              "      <td>0</td>\n",
              "      <td>0</td>\n",
              "      <td>0</td>\n",
              "      <td>0</td>\n",
              "      <td>0</td>\n",
              "      <td>0</td>\n",
              "      <td>5.576333</td>\n",
              "    </tr>\n",
              "    <tr>\n",
              "      <th>3</th>\n",
              "      <td>3</td>\n",
              "      <td>433.529398</td>\n",
              "      <td>0</td>\n",
              "      <td>1</td>\n",
              "      <td>4.0</td>\n",
              "      <td>0</td>\n",
              "      <td>9.0</td>\n",
              "      <td>90.0</td>\n",
              "      <td>2</td>\n",
              "      <td>0.384862</td>\n",
              "      <td>...</td>\n",
              "      <td>0</td>\n",
              "      <td>0</td>\n",
              "      <td>0</td>\n",
              "      <td>0</td>\n",
              "      <td>0</td>\n",
              "      <td>0</td>\n",
              "      <td>0</td>\n",
              "      <td>0</td>\n",
              "      <td>0</td>\n",
              "      <td>6.071960</td>\n",
              "    </tr>\n",
              "    <tr>\n",
              "      <th>4</th>\n",
              "      <td>4</td>\n",
              "      <td>485.552926</td>\n",
              "      <td>0</td>\n",
              "      <td>1</td>\n",
              "      <td>2.0</td>\n",
              "      <td>1</td>\n",
              "      <td>10.0</td>\n",
              "      <td>98.0</td>\n",
              "      <td>1</td>\n",
              "      <td>0.544738</td>\n",
              "      <td>...</td>\n",
              "      <td>0</td>\n",
              "      <td>0</td>\n",
              "      <td>0</td>\n",
              "      <td>0</td>\n",
              "      <td>0</td>\n",
              "      <td>0</td>\n",
              "      <td>0</td>\n",
              "      <td>0</td>\n",
              "      <td>0</td>\n",
              "      <td>6.185288</td>\n",
              "    </tr>\n",
              "  </tbody>\n",
              "</table>\n",
              "<p>5 rows × 32 columns</p>\n",
              "</div>\n",
              "    <div class=\"colab-df-buttons\">\n",
              "\n",
              "  <div class=\"colab-df-container\">\n",
              "    <button class=\"colab-df-convert\" onclick=\"convertToInteractive('df-8aecea1c-8cfa-4c35-9b61-6013e1551831')\"\n",
              "            title=\"Convert this dataframe to an interactive table.\"\n",
              "            style=\"display:none;\">\n",
              "\n",
              "  <svg xmlns=\"http://www.w3.org/2000/svg\" height=\"24px\" viewBox=\"0 -960 960 960\">\n",
              "    <path d=\"M120-120v-720h720v720H120Zm60-500h600v-160H180v160Zm220 220h160v-160H400v160Zm0 220h160v-160H400v160ZM180-400h160v-160H180v160Zm440 0h160v-160H620v160ZM180-180h160v-160H180v160Zm440 0h160v-160H620v160Z\"/>\n",
              "  </svg>\n",
              "    </button>\n",
              "\n",
              "  <style>\n",
              "    .colab-df-container {\n",
              "      display:flex;\n",
              "      gap: 12px;\n",
              "    }\n",
              "\n",
              "    .colab-df-convert {\n",
              "      background-color: #E8F0FE;\n",
              "      border: none;\n",
              "      border-radius: 50%;\n",
              "      cursor: pointer;\n",
              "      display: none;\n",
              "      fill: #1967D2;\n",
              "      height: 32px;\n",
              "      padding: 0 0 0 0;\n",
              "      width: 32px;\n",
              "    }\n",
              "\n",
              "    .colab-df-convert:hover {\n",
              "      background-color: #E2EBFA;\n",
              "      box-shadow: 0px 1px 2px rgba(60, 64, 67, 0.3), 0px 1px 3px 1px rgba(60, 64, 67, 0.15);\n",
              "      fill: #174EA6;\n",
              "    }\n",
              "\n",
              "    .colab-df-buttons div {\n",
              "      margin-bottom: 4px;\n",
              "    }\n",
              "\n",
              "    [theme=dark] .colab-df-convert {\n",
              "      background-color: #3B4455;\n",
              "      fill: #D2E3FC;\n",
              "    }\n",
              "\n",
              "    [theme=dark] .colab-df-convert:hover {\n",
              "      background-color: #434B5C;\n",
              "      box-shadow: 0px 1px 3px 1px rgba(0, 0, 0, 0.15);\n",
              "      filter: drop-shadow(0px 1px 2px rgba(0, 0, 0, 0.3));\n",
              "      fill: #FFFFFF;\n",
              "    }\n",
              "  </style>\n",
              "\n",
              "    <script>\n",
              "      const buttonEl =\n",
              "        document.querySelector('#df-8aecea1c-8cfa-4c35-9b61-6013e1551831 button.colab-df-convert');\n",
              "      buttonEl.style.display =\n",
              "        google.colab.kernel.accessAllowed ? 'block' : 'none';\n",
              "\n",
              "      async function convertToInteractive(key) {\n",
              "        const element = document.querySelector('#df-8aecea1c-8cfa-4c35-9b61-6013e1551831');\n",
              "        const dataTable =\n",
              "          await google.colab.kernel.invokeFunction('convertToInteractive',\n",
              "                                                    [key], {});\n",
              "        if (!dataTable) return;\n",
              "\n",
              "        const docLinkHtml = 'Like what you see? Visit the ' +\n",
              "          '<a target=\"_blank\" href=https://colab.research.google.com/notebooks/data_table.ipynb>data table notebook</a>'\n",
              "          + ' to learn more about interactive tables.';\n",
              "        element.innerHTML = '';\n",
              "        dataTable['output_type'] = 'display_data';\n",
              "        await google.colab.output.renderOutput(dataTable, element);\n",
              "        const docLink = document.createElement('div');\n",
              "        docLink.innerHTML = docLinkHtml;\n",
              "        element.appendChild(docLink);\n",
              "      }\n",
              "    </script>\n",
              "  </div>\n",
              "\n",
              "\n",
              "<div id=\"df-98c27932-6be9-413b-b0f5-ae880c05527c\">\n",
              "  <button class=\"colab-df-quickchart\" onclick=\"quickchart('df-98c27932-6be9-413b-b0f5-ae880c05527c')\"\n",
              "            title=\"Suggest charts\"\n",
              "            style=\"display:none;\">\n",
              "\n",
              "<svg xmlns=\"http://www.w3.org/2000/svg\" height=\"24px\"viewBox=\"0 0 24 24\"\n",
              "     width=\"24px\">\n",
              "    <g>\n",
              "        <path d=\"M19 3H5c-1.1 0-2 .9-2 2v14c0 1.1.9 2 2 2h14c1.1 0 2-.9 2-2V5c0-1.1-.9-2-2-2zM9 17H7v-7h2v7zm4 0h-2V7h2v10zm4 0h-2v-4h2v4z\"/>\n",
              "    </g>\n",
              "</svg>\n",
              "  </button>\n",
              "\n",
              "<style>\n",
              "  .colab-df-quickchart {\n",
              "      --bg-color: #E8F0FE;\n",
              "      --fill-color: #1967D2;\n",
              "      --hover-bg-color: #E2EBFA;\n",
              "      --hover-fill-color: #174EA6;\n",
              "      --disabled-fill-color: #AAA;\n",
              "      --disabled-bg-color: #DDD;\n",
              "  }\n",
              "\n",
              "  [theme=dark] .colab-df-quickchart {\n",
              "      --bg-color: #3B4455;\n",
              "      --fill-color: #D2E3FC;\n",
              "      --hover-bg-color: #434B5C;\n",
              "      --hover-fill-color: #FFFFFF;\n",
              "      --disabled-bg-color: #3B4455;\n",
              "      --disabled-fill-color: #666;\n",
              "  }\n",
              "\n",
              "  .colab-df-quickchart {\n",
              "    background-color: var(--bg-color);\n",
              "    border: none;\n",
              "    border-radius: 50%;\n",
              "    cursor: pointer;\n",
              "    display: none;\n",
              "    fill: var(--fill-color);\n",
              "    height: 32px;\n",
              "    padding: 0;\n",
              "    width: 32px;\n",
              "  }\n",
              "\n",
              "  .colab-df-quickchart:hover {\n",
              "    background-color: var(--hover-bg-color);\n",
              "    box-shadow: 0 1px 2px rgba(60, 64, 67, 0.3), 0 1px 3px 1px rgba(60, 64, 67, 0.15);\n",
              "    fill: var(--button-hover-fill-color);\n",
              "  }\n",
              "\n",
              "  .colab-df-quickchart-complete:disabled,\n",
              "  .colab-df-quickchart-complete:disabled:hover {\n",
              "    background-color: var(--disabled-bg-color);\n",
              "    fill: var(--disabled-fill-color);\n",
              "    box-shadow: none;\n",
              "  }\n",
              "\n",
              "  .colab-df-spinner {\n",
              "    border: 2px solid var(--fill-color);\n",
              "    border-color: transparent;\n",
              "    border-bottom-color: var(--fill-color);\n",
              "    animation:\n",
              "      spin 1s steps(1) infinite;\n",
              "  }\n",
              "\n",
              "  @keyframes spin {\n",
              "    0% {\n",
              "      border-color: transparent;\n",
              "      border-bottom-color: var(--fill-color);\n",
              "      border-left-color: var(--fill-color);\n",
              "    }\n",
              "    20% {\n",
              "      border-color: transparent;\n",
              "      border-left-color: var(--fill-color);\n",
              "      border-top-color: var(--fill-color);\n",
              "    }\n",
              "    30% {\n",
              "      border-color: transparent;\n",
              "      border-left-color: var(--fill-color);\n",
              "      border-top-color: var(--fill-color);\n",
              "      border-right-color: var(--fill-color);\n",
              "    }\n",
              "    40% {\n",
              "      border-color: transparent;\n",
              "      border-right-color: var(--fill-color);\n",
              "      border-top-color: var(--fill-color);\n",
              "    }\n",
              "    60% {\n",
              "      border-color: transparent;\n",
              "      border-right-color: var(--fill-color);\n",
              "    }\n",
              "    80% {\n",
              "      border-color: transparent;\n",
              "      border-right-color: var(--fill-color);\n",
              "      border-bottom-color: var(--fill-color);\n",
              "    }\n",
              "    90% {\n",
              "      border-color: transparent;\n",
              "      border-bottom-color: var(--fill-color);\n",
              "    }\n",
              "  }\n",
              "</style>\n",
              "\n",
              "  <script>\n",
              "    async function quickchart(key) {\n",
              "      const quickchartButtonEl =\n",
              "        document.querySelector('#' + key + ' button');\n",
              "      quickchartButtonEl.disabled = true;  // To prevent multiple clicks.\n",
              "      quickchartButtonEl.classList.add('colab-df-spinner');\n",
              "      try {\n",
              "        const charts = await google.colab.kernel.invokeFunction(\n",
              "            'suggestCharts', [key], {});\n",
              "      } catch (error) {\n",
              "        console.error('Error during call to suggestCharts:', error);\n",
              "      }\n",
              "      quickchartButtonEl.classList.remove('colab-df-spinner');\n",
              "      quickchartButtonEl.classList.add('colab-df-quickchart-complete');\n",
              "    }\n",
              "    (() => {\n",
              "      let quickchartButtonEl =\n",
              "        document.querySelector('#df-98c27932-6be9-413b-b0f5-ae880c05527c button');\n",
              "      quickchartButtonEl.style.display =\n",
              "        google.colab.kernel.accessAllowed ? 'block' : 'none';\n",
              "    })();\n",
              "  </script>\n",
              "</div>\n",
              "    </div>\n",
              "  </div>\n"
            ],
            "application/vnd.google.colaboratory.intrinsic+json": {
              "type": "dataframe",
              "variable_name": "df"
            }
          },
          "metadata": {},
          "execution_count": 163
        }
      ]
    },
    {
      "cell_type": "markdown",
      "source": [
        "# Feature Scaling"
      ],
      "metadata": {
        "id": "7MdiIINTYTVo"
      }
    },
    {
      "cell_type": "markdown",
      "source": [
        "Applying Min-Max Scaling to the `dist` (distance from city center) and `metro_dist` (distance from nearest metro station) columns to normalize these features into a consistent range of 0 to 1."
      ],
      "metadata": {
        "id": "518eHJrOYWLQ"
      }
    },
    {
      "cell_type": "code",
      "source": [
        "scaler = MinMaxScaler()\n",
        "\n",
        "columns_to_scale = ['dist', 'metro_dist']\n",
        "\n",
        "df[columns_to_scale] = scaler.fit_transform(df[columns_to_scale])\n",
        "\n",
        "print(df[columns_to_scale].head())"
      ],
      "metadata": {
        "colab": {
          "base_uri": "https://localhost:8080/"
        },
        "id": "SWFvYQm_KSN7",
        "outputId": "6bee9dfe-558d-4dcc-bb38-2513535a6d08"
      },
      "execution_count": 164,
      "outputs": [
        {
          "output_type": "stream",
          "name": "stdout",
          "text": [
            "       dist  metro_dist\n",
            "0  0.198180    0.177775\n",
            "1  0.018732    0.016614\n",
            "2  0.226885    0.255711\n",
            "3  0.014635    0.030661\n",
            "4  0.020962    0.022170\n"
          ]
        }
      ]
    },
    {
      "cell_type": "markdown",
      "source": [
        "Standardization is applied to the `cleanliness_rating` and `guest_satisfaction_overall` columns to ensure that these variables have zero mean and unit variance."
      ],
      "metadata": {
        "id": "xlifRXTZZuGO"
      }
    },
    {
      "cell_type": "code",
      "source": [
        "scaler = StandardScaler()\n",
        "\n",
        "columns_to_standardize = ['cleanliness_rating', 'guest_satisfaction_overall']\n",
        "\n",
        "df[columns_to_standardize] = scaler.fit_transform(df[columns_to_standardize])\n",
        "\n",
        "print(df[columns_to_standardize].head())"
      ],
      "metadata": {
        "colab": {
          "base_uri": "https://localhost:8080/"
        },
        "id": "LJursaWXPgBN",
        "outputId": "eb13cd24-efc8-464f-c25d-1110e2c18433"
      },
      "execution_count": 165,
      "outputs": [
        {
          "output_type": "stream",
          "name": "stdout",
          "text": [
            "   cleanliness_rating  guest_satisfaction_overall\n",
            "0            0.638184                    0.041559\n",
            "1           -1.456366                   -0.852751\n",
            "2           -0.409091                   -0.629173\n",
            "3           -0.409091                   -0.293807\n",
            "4            0.638184                    0.600503\n"
          ]
        }
      ]
    },
    {
      "cell_type": "code",
      "source": [
        "df.columns"
      ],
      "metadata": {
        "colab": {
          "base_uri": "https://localhost:8080/"
        },
        "id": "k89vpbpBZR2X",
        "outputId": "566818cc-8682-4eaa-9339-edc0ebd5740b"
      },
      "execution_count": 166,
      "outputs": [
        {
          "output_type": "execute_result",
          "data": {
            "text/plain": [
              "Index(['Unnamed: 0', 'realSum', 'room_shared', 'room_private',\n",
              "       'person_capacity', 'host_is_superhost', 'cleanliness_rating',\n",
              "       'guest_satisfaction_overall', 'bedrooms', 'dist', 'metro_dist',\n",
              "       'attr_index', 'attr_index_norm', 'rest_index', 'rest_index_norm', 'lng',\n",
              "       'lat', 'room_type_Private room', 'room_type_Shared room', 'multi_1',\n",
              "       'biz_1', 'city_athens', 'city_barcelona', 'city_berlin',\n",
              "       'city_budapest', 'city_lisbon', 'city_london', 'city_paris',\n",
              "       'city_rome', 'city_vienna', 'day_type_weekends', 'price'],\n",
              "      dtype='object')"
            ]
          },
          "metadata": {},
          "execution_count": 166
        }
      ]
    },
    {
      "cell_type": "code",
      "source": [
        "vif_data = pd.DataFrame()\n",
        "vif_data['feature'] = df.columns\n",
        "vif_data['VIF'] = [variance_inflation_factor(df.values, i) for i in range(df.shape[1])]\n",
        "vif_data['VIF'] = vif_data['VIF'].apply(lambda x: f\"{x:.2f}\")\n",
        "\n",
        "print(vif_data)"
      ],
      "metadata": {
        "colab": {
          "base_uri": "https://localhost:8080/"
        },
        "id": "IJsdw-qeaNz7",
        "outputId": "e0514f67-67fa-4fde-b708-aee0c2fab0cc"
      },
      "execution_count": 167,
      "outputs": [
        {
          "output_type": "stream",
          "name": "stderr",
          "text": [
            "/usr/local/lib/python3.10/dist-packages/statsmodels/stats/outliers_influence.py:197: RuntimeWarning: divide by zero encountered in scalar divide\n",
            "  vif = 1. / (1. - r_squared_i)\n"
          ]
        },
        {
          "output_type": "stream",
          "name": "stdout",
          "text": [
            "                       feature       VIF\n",
            "0                   Unnamed: 0      4.10\n",
            "1                      realSum      3.60\n",
            "2                  room_shared       inf\n",
            "3                 room_private       inf\n",
            "4              person_capacity     15.12\n",
            "5            host_is_superhost      1.54\n",
            "6           cleanliness_rating      2.11\n",
            "7   guest_satisfaction_overall      2.18\n",
            "8                     bedrooms      7.28\n",
            "9                         dist     10.31\n",
            "10                  metro_dist      2.94\n",
            "11                  attr_index     26.33\n",
            "12             attr_index_norm     25.13\n",
            "13                  rest_index     21.96\n",
            "14             rest_index_norm     15.67\n",
            "15                         lng  98771.93\n",
            "16                         lat  12804.21\n",
            "17      room_type_Private room       inf\n",
            "18       room_type_Shared room       inf\n",
            "19                     multi_1      1.95\n",
            "20                       biz_1      2.43\n",
            "21                 city_athens  27205.73\n",
            "22              city_barcelona    103.02\n",
            "23                 city_berlin   2271.08\n",
            "24               city_budapest  10867.76\n",
            "25                 city_lisbon  11838.12\n",
            "26                 city_london   3044.17\n",
            "27                  city_paris    413.30\n",
            "28                   city_rome   8428.98\n",
            "29                 city_vienna   6295.89\n",
            "30           day_type_weekends      2.06\n",
            "31                       price    391.54\n"
          ]
        }
      ]
    },
    {
      "cell_type": "markdown",
      "source": [
        "# Feature Engineering"
      ],
      "metadata": {
        "id": "tIlcygFVcTro"
      }
    },
    {
      "cell_type": "markdown",
      "source": [
        "As the `bedrooms` and `person_capacity` has higher collinearity, therefore, combining them into one feature and naming it `space_index`, same logic has been applied to the `metro_to_city_dist_ratio`. Applying binning to the `dist` to make categorical value based on close, moderate and far distance assumptions"
      ],
      "metadata": {
        "id": "0fVJfifZtPd_"
      }
    },
    {
      "cell_type": "code",
      "source": [
        "df['space_index'] = df['bedrooms'] * df['person_capacity']\n",
        "\n",
        "df['metro_to_city_dist_ratio'] = df['metro_dist'] / df['dist']\n",
        "\n",
        "bins = [0, 3, 10, float('inf')]\n",
        "labels = [1, 2, 3]  # 1 for close, 2 for moderate, 3 for far\n",
        "df['dist_category'] = pd.cut(df['dist'], bins=bins, labels=labels)\n",
        "\n",
        "df['dist_category'] = pd.to_numeric(df['dist_category'])"
      ],
      "metadata": {
        "id": "9SVBvHbGcTU_"
      },
      "execution_count": 168,
      "outputs": []
    },
    {
      "cell_type": "code",
      "source": [
        "df.replace([np.inf, -np.inf], np.nan, inplace=True)\n",
        "df.dropna(inplace=True)\n",
        "\n",
        "vif_data = pd.DataFrame()\n",
        "vif_data['feature'] = df.columns\n",
        "vif_data['VIF'] = [variance_inflation_factor(df.values, i) for i in range(df.shape[1])]\n",
        "vif_data['VIF'] = vif_data['VIF'].apply(lambda x: f\"{x:.2f}\")\n",
        "\n",
        "print(vif_data)"
      ],
      "metadata": {
        "colab": {
          "base_uri": "https://localhost:8080/"
        },
        "id": "kUzzzkZjeNUP",
        "outputId": "85b0dcec-238a-4cb0-9236-4216229dffef"
      },
      "execution_count": 169,
      "outputs": [
        {
          "output_type": "stream",
          "name": "stderr",
          "text": [
            "/usr/local/lib/python3.10/dist-packages/statsmodels/stats/outliers_influence.py:197: RuntimeWarning: divide by zero encountered in scalar divide\n",
            "  vif = 1. / (1. - r_squared_i)\n"
          ]
        },
        {
          "output_type": "stream",
          "name": "stdout",
          "text": [
            "                       feature         VIF\n",
            "0                   Unnamed: 0        1.48\n",
            "1                      realSum        2.09\n",
            "2                  room_shared         inf\n",
            "3                 room_private         inf\n",
            "4              person_capacity        6.40\n",
            "5            host_is_superhost        1.15\n",
            "6           cleanliness_rating        2.11\n",
            "7   guest_satisfaction_overall        2.18\n",
            "8                     bedrooms        9.75\n",
            "9                         dist        3.76\n",
            "10                  metro_dist        1.84\n",
            "11                  attr_index        9.71\n",
            "12             attr_index_norm        8.76\n",
            "13                  rest_index        8.52\n",
            "14             rest_index_norm        6.00\n",
            "15                         lng    62872.00\n",
            "16                         lat    63369.25\n",
            "17      room_type_Private room         inf\n",
            "18       room_type_Shared room         inf\n",
            "19                     multi_1        1.38\n",
            "20                       biz_1        1.58\n",
            "21                 city_athens    70726.25\n",
            "22              city_barcelona    14249.99\n",
            "23                 city_berlin     2162.56\n",
            "24               city_budapest    14478.06\n",
            "25                 city_lisbon    50795.77\n",
            "26                 city_london     2656.66\n",
            "27                  city_paris     3422.35\n",
            "28                   city_rome    44472.69\n",
            "29                 city_vienna     8746.96\n",
            "30           day_type_weekends        1.02\n",
            "31                       price        4.69\n",
            "32                 space_index       20.19\n",
            "33    metro_to_city_dist_ratio        1.00\n",
            "34               dist_category  6265740.59\n"
          ]
        }
      ]
    },
    {
      "cell_type": "markdown",
      "source": [
        "# Removing reduntant features"
      ],
      "metadata": {
        "id": "8SPvZGKOt9ry"
      }
    },
    {
      "cell_type": "code",
      "source": [
        "cols_to_drop = ['lng', 'lat', 'dist', 'metro_dist', 'room_shared', 'room_private', 'attr_index', 'rest_index', 'realSum', 'bedrooms', 'person_capacity']\n",
        "\n",
        "df_reduced = df.drop(columns=cols_to_drop)\n",
        "df_reduced.columns"
      ],
      "metadata": {
        "colab": {
          "base_uri": "https://localhost:8080/"
        },
        "id": "O6d2CnsOZUYy",
        "outputId": "d70de0ae-0889-45f0-eb0f-d23873ddbf6e"
      },
      "execution_count": 170,
      "outputs": [
        {
          "output_type": "execute_result",
          "data": {
            "text/plain": [
              "Index(['Unnamed: 0', 'host_is_superhost', 'cleanliness_rating',\n",
              "       'guest_satisfaction_overall', 'attr_index_norm', 'rest_index_norm',\n",
              "       'room_type_Private room', 'room_type_Shared room', 'multi_1', 'biz_1',\n",
              "       'city_athens', 'city_barcelona', 'city_berlin', 'city_budapest',\n",
              "       'city_lisbon', 'city_london', 'city_paris', 'city_rome', 'city_vienna',\n",
              "       'day_type_weekends', 'price', 'space_index', 'metro_to_city_dist_ratio',\n",
              "       'dist_category'],\n",
              "      dtype='object')"
            ]
          },
          "metadata": {},
          "execution_count": 170
        }
      ]
    },
    {
      "cell_type": "markdown",
      "source": [
        "The dist_category still contains higher multicollinearity 😞"
      ],
      "metadata": {
        "id": "fd9oRnJAuD-E"
      }
    },
    {
      "cell_type": "code",
      "source": [
        "df_reduced.replace([np.inf, -np.inf], np.nan, inplace=True)\n",
        "df_reduced.dropna(inplace=True)\n",
        "\n",
        "vif_data = pd.DataFrame()\n",
        "vif_data['feature'] = df_reduced.columns\n",
        "vif_data['VIF'] = [variance_inflation_factor(df_reduced.values, i) for i in range(df_reduced.shape[1])]\n",
        "vif_data['VIF'] = vif_data['VIF'].apply(lambda x: f\"{x:.2f}\")\n",
        "\n",
        "print(vif_data)"
      ],
      "metadata": {
        "colab": {
          "base_uri": "https://localhost:8080/"
        },
        "id": "xUU1WPfthqYV",
        "outputId": "9d44ccc8-b12e-43e4-c1c9-c7755aad4f84"
      },
      "execution_count": 171,
      "outputs": [
        {
          "output_type": "stream",
          "name": "stdout",
          "text": [
            "                       feature     VIF\n",
            "0                   Unnamed: 0    1.46\n",
            "1            host_is_superhost    1.15\n",
            "2           cleanliness_rating    2.10\n",
            "3   guest_satisfaction_overall    2.18\n",
            "4              attr_index_norm    2.72\n",
            "5              rest_index_norm    3.28\n",
            "6       room_type_Private room    1.80\n",
            "7        room_type_Shared room    1.06\n",
            "8                      multi_1    1.37\n",
            "9                        biz_1    1.54\n",
            "10                 city_athens    5.03\n",
            "11              city_barcelona    2.48\n",
            "12                 city_berlin    2.34\n",
            "13               city_budapest    3.94\n",
            "14                 city_lisbon    4.39\n",
            "15                 city_london    6.55\n",
            "16                  city_paris    4.39\n",
            "17                   city_rome    6.21\n",
            "18                 city_vienna    3.14\n",
            "19           day_type_weekends    1.01\n",
            "20                       price    2.90\n",
            "21                 space_index    1.42\n",
            "22    metro_to_city_dist_ratio    1.00\n",
            "23               dist_category  315.15\n"
          ]
        }
      ]
    },
    {
      "cell_type": "markdown",
      "source": [
        "# Spiliting the data\n",
        "\n",
        "80% for `training` and 20% for `testing`"
      ],
      "metadata": {
        "id": "cxnV9reFmiMT"
      }
    },
    {
      "cell_type": "code",
      "source": [
        "X = df_reduced.drop('price', axis=1)\n",
        "y = df_reduced['price']\n",
        "\n",
        "X_train, X_test, y_train, y_test = train_test_split(X, y, test_size=0.30, random_state=42)\n",
        "\n",
        "print(\"Training set shape:\", X_train.shape)\n",
        "print(\"Testing set shape:\", X_test.shape)"
      ],
      "metadata": {
        "colab": {
          "base_uri": "https://localhost:8080/"
        },
        "id": "23nPL-LZZJYA",
        "outputId": "20ccabac-7d3a-43dd-dac3-31080fc75286"
      },
      "execution_count": 172,
      "outputs": [
        {
          "output_type": "stream",
          "name": "stdout",
          "text": [
            "Training set shape: (36194, 23)\n",
            "Testing set shape: (15512, 23)\n"
          ]
        }
      ]
    },
    {
      "cell_type": "markdown",
      "source": [
        "# Regression model"
      ],
      "metadata": {
        "id": "GYGl5cjQoaqy"
      }
    },
    {
      "cell_type": "code",
      "source": [
        "model = LinearRegression()\n",
        "\n",
        "# Fit the model on the training data\n",
        "model.fit(X_train, y_train)\n",
        "\n",
        "y_train_pred = model.predict(X_train)\n",
        "y_test_pred = model.predict(X_test)"
      ],
      "metadata": {
        "id": "ykt9UfybaXQI"
      },
      "execution_count": 173,
      "outputs": []
    },
    {
      "cell_type": "code",
      "source": [
        "# Evaluate the model performance\n",
        "train_mse = mean_squared_error(y_train, y_train_pred)\n",
        "train_r2 = r2_score(y_train, y_train_pred)\n",
        "test_mse = mean_squared_error(y_test, y_test_pred)\n",
        "test_r2 = r2_score(y_test, y_test_pred)\n",
        "\n",
        "print(\"Training MSE:\", train_mse)\n",
        "print(\"Training R^2:\", train_r2)\n",
        "print(\"Testing MSE:\", test_mse)\n",
        "print(\"Testing R^2:\", test_r2)"
      ],
      "metadata": {
        "colab": {
          "base_uri": "https://localhost:8080/"
        },
        "id": "BE7s4NsMn5A-",
        "outputId": "80d3fe4c-7f7e-40b7-cc51-a7e8b3c3de91"
      },
      "execution_count": 174,
      "outputs": [
        {
          "output_type": "stream",
          "name": "stdout",
          "text": [
            "Training MSE: 0.12135759220794774\n",
            "Training R^2: 0.6564134112355475\n",
            "Testing MSE: 0.1265143043871097\n",
            "Testing R^2: 0.6505566783250367\n"
          ]
        }
      ]
    },
    {
      "cell_type": "code",
      "source": [
        "import matplotlib.pyplot as plt\n",
        "\n",
        "plt.figure(figsize=(10, 6))\n",
        "plt.scatter(y_test, y_test_pred, alpha=0.3)\n",
        "plt.xlabel('Actual Prices')\n",
        "plt.ylabel('Predicted Prices')\n",
        "plt.title('Actual vs. Predicted Prices')\n",
        "plt.plot([min(y_test), max(y_test)], [min(y_test), max(y_test)], color='red')  # Perfect predictions line\n",
        "plt.show()"
      ],
      "metadata": {
        "colab": {
          "base_uri": "https://localhost:8080/",
          "height": 564
        },
        "id": "H-J0Lavroy6B",
        "outputId": "069e1856-53f7-4363-fa71-6f4599a70c66"
      },
      "execution_count": 137,
      "outputs": [
        {
          "output_type": "display_data",
          "data": {
            "text/plain": [
              "<Figure size 1000x600 with 1 Axes>"
            ],
            "image/png": "[encoded data removed]"
          },
          "metadata": {}
        }
      ]
    },
    {
      "cell_type": "code",
      "source": [
        "\n",
        "from sklearn.linear_model import Lasso\n",
        "lasso_model = Lasso(alpha=0.0001)\n",
        "\n",
        "lasso_model.fit(X_train, y_train)\n",
        "\n",
        "y_test_pred = lasso_model.predict(X_test)\n",
        "\n",
        "# Calculate MSE and R-squared for the testing set\n",
        "mse_lasso = mean_squared_error(y_test, y_test_pred)\n",
        "r2_lasso = r2_score(y_test, y_test_pred)\n",
        "\n",
        "print(\"Lasso Regression - Testing MSE:\", mse_lasso)\n",
        "print(\"Lasso Regression - Testing R^2:\", r2_lasso)"
      ],
      "metadata": {
        "colab": {
          "base_uri": "https://localhost:8080/"
        },
        "id": "pIfgmcFWqQMU",
        "outputId": "7ecdbb2b-dd3a-44bc-f183-82356bbe559a"
      },
      "execution_count": 175,
      "outputs": [
        {
          "output_type": "stream",
          "name": "stdout",
          "text": [
            "Lasso Regression - Testing MSE: 0.12655069656044454\n",
            "Lasso Regression - Testing R^2: 0.6504561600319101\n"
          ]
        }
      ]
    },
    {
      "cell_type": "code",
      "source": [
        "from sklearn.linear_model import RidgeCV\n",
        "\n",
        "alphas = [0.001, 0.01, 0.1, 1, 10, 100]\n",
        "\n",
        "ridge_model = RidgeCV(alphas=alphas, store_cv_values=True)\n",
        "\n",
        "ridge_model.fit(X_train, y_train)\n",
        "\n",
        "y_test_pred = ridge_model.predict(X_test)\n",
        "\n",
        "# Calculate MSE and R-squared for the testing set\n",
        "mse_ridge = mean_squared_error(y_test, y_test_pred)\n",
        "r2_ridge = r2_score(y_test, y_test_pred)\n",
        "\n",
        "print(\"Ridge Regression - Testing MSE:\", mse_ridge)\n",
        "print(\"Ridge Regression - Testing R^2:\", r2_ridge)\n",
        "print(\"Best alpha used:\", ridge_model.alpha_)"
      ],
      "metadata": {
        "colab": {
          "base_uri": "https://localhost:8080/"
        },
        "id": "HmwH41s8qLhB",
        "outputId": "e5972c23-98a1-4b87-8924-ee153604a6c6"
      },
      "execution_count": 176,
      "outputs": [
        {
          "output_type": "stream",
          "name": "stdout",
          "text": [
            "Ridge Regression - Testing MSE: 0.12665559443443922\n",
            "Ridge Regression - Testing R^2: 0.6501664231384978\n",
            "Best alpha used: 10.0\n"
          ]
        }
      ]
    },
    {
      "cell_type": "markdown",
      "source": [
        "# Random Forest\n",
        "\n",
        "It seems the model is overfitting in the training data, perhaps use grid search and cross validation to find the optimal parameter"
      ],
      "metadata": {
        "id": "STLjCp7Kp34B"
      }
    },
    {
      "cell_type": "code",
      "source": [
        "from sklearn.ensemble import RandomForestRegressor\n",
        "\n",
        "random_forest_model = RandomForestRegressor(n_estimators=100, max_depth=None, random_state=42)\n",
        "\n",
        "random_forest_model.fit(X_train, y_train)\n",
        "\n",
        "y_train_pred = random_forest_model.predict(X_train)\n",
        "y_test_pred = random_forest_model.predict(X_test)\n",
        "\n",
        "# Calculate MSE and R-squared for the training and testing set\n",
        "mse_rf_train = mean_squared_error(y_train, y_train_pred)\n",
        "r2_rf_train = r2_score(y_train, y_train_pred)\n",
        "\n",
        "mse_rf_test = mean_squared_error(y_test, y_test_pred)\n",
        "r2_rf_test = r2_score(y_test, y_test_pred)\n",
        "\n",
        "print(\"Random Forest Regression - Training MSE:\", mse_rf_train)\n",
        "print(\"Random Forest Regression - Training R^2:\", r2_rf_train)\n",
        "print(\"Random Forest Regression - Testing MSE:\", mse_rf_test)\n",
        "print(\"Random Forest Regression - Testing R^2:\", r2_rf_test)"
      ],
      "metadata": {
        "colab": {
          "base_uri": "https://localhost:8080/"
        },
        "id": "kozKNEiAqUm9",
        "outputId": "886c7449-12f8-47b9-b01f-03c60de021d1"
      },
      "execution_count": 177,
      "outputs": [
        {
          "output_type": "stream",
          "name": "stdout",
          "text": [
            "Random Forest Regression - Training MSE: 0.009980888330902084\n",
            "Random Forest Regression - Training R^2: 0.9717421933637458\n",
            "Random Forest Regression - Testing MSE: 0.07188503591547019\n",
            "Random Forest Regression - Testing R^2: 0.8014473869123582\n"
          ]
        }
      ]
    },
    {
      "cell_type": "code",
      "source": [
        "import xgboost as xgb\n",
        "\n",
        "model = xgb.XGBRegressor(objective ='reg:squarederror',\n",
        "                         colsample_bytree = 0.3,\n",
        "                         learning_rate = 0.1,\n",
        "                         max_depth = 5,\n",
        "                         alpha = 10,\n",
        "                         n_estimators = 100)\n",
        "\n",
        "model.fit(X_train, y_train)\n",
        "\n",
        "y_train_pred = model.predict(X_train)\n",
        "y_test_pred = model.predict(X_test)\n",
        "\n",
        "# Calculate the Mean Squared Error (MSE) and R-squared for the training and testing set\n",
        "train_mse = mean_squared_error(y_train, y_train_pred)\n",
        "train_r2 = r2_score(y_train, y_train_pred)\n",
        "\n",
        "test_mse = mean_squared_error(y_test, y_test_pred)\n",
        "test_r2 = r2_score(y_test, y_test_pred)\n",
        "\n",
        "print(\"Training MSE: \", train_mse)\n",
        "print(\"Training R^2: \", train_r2)\n",
        "print(\"Testing MSE: \", test_mse)\n",
        "print(\"Testing R^2: \", test_r2)"
      ],
      "metadata": {
        "colab": {
          "base_uri": "https://localhost:8080/"
        },
        "id": "368xQ64GqFS9",
        "outputId": "2c934b14-ee35-4d4c-87f7-61bd6fa96481"
      },
      "execution_count": 178,
      "outputs": [
        {
          "output_type": "stream",
          "name": "stdout",
          "text": [
            "Training MSE:  0.1147340116619377\n",
            "Training R^2:  0.675166036463235\n",
            "Testing MSE:  0.12189460492043426\n",
            "Testing R^2:  0.6633166830896806\n"
          ]
        }
      ]
    },
    {
      "cell_type": "code",
      "source": [],
      "metadata": {
        "id": "BJvkWmyZ2K4r"
      },
      "execution_count": null,
      "outputs": []
    }
  ]
}